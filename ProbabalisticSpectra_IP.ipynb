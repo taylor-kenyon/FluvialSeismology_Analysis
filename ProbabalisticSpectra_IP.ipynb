{
 "cells": [
  {
   "cell_type": "code",
   "execution_count": 1,
   "id": "547245b2-37ab-4bd4-a9f8-47f9c3d668b4",
   "metadata": {},
   "outputs": [],
   "source": [
    "#Working from Visualizing Probabalistic Power Spectra Densities in the OBSPY 1.4.1 documentation.\n",
    "#Objective is to determine a strategy for assessing signal quality between different sites and times.\n",
    "#Signals validated by whatever tool can be produced here are intended to be of enough quality to carry forward for figures and additional analysis\n",
    "\n",
    "from obspy import read\n",
    "from obspy.io.xseed import Parser\n",
    "from obspy.signal import PPSD\n",
    "\n",
    "#st = read(\"https://examples.obspy.org/BW.KW1..EHZ.D.2011.037\")\n",
    "#tr = st.select(id=\"BW.KW1..EHZ\")[0]\n"
   ]
  }
 ],
 "metadata": {
  "kernelspec": {
   "display_name": "Python 3 (ipykernel)",
   "language": "python",
   "name": "python3"
  },
  "language_info": {
   "codemirror_mode": {
    "name": "ipython",
    "version": 3
   },
   "file_extension": ".py",
   "mimetype": "text/x-python",
   "name": "python",
   "nbconvert_exporter": "python",
   "pygments_lexer": "ipython3",
   "version": "3.11.9"
  }
 },
 "nbformat": 4,
 "nbformat_minor": 5
}
