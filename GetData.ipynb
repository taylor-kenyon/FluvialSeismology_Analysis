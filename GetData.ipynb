{
 "cells": [
  {
   "cell_type": "code",
   "execution_count": null,
   "id": "9b095e32-13bf-44b0-9ae9-d0787b245b5e",
   "metadata": {
    "editable": true,
    "slideshow": {
     "slide_type": ""
    },
    "tags": []
   },
   "outputs": [],
   "source": [
    "##GET DATA FROM SAGE ARCHIVE##\n",
    "t1 = UTCDateTime(2023, 8, 11) # Start time\n",
    "t2 = UTCDateTime(2023, 8, 14) # End time\n",
    "delta = 1800 # time in seconds, reduce to reduce file size\n",
    "stas = [2301, 2302, 2303, 2304, 2305, 2306, 2307, 2308, 2309, 2310, 2311, 2312, 2313, 2314, 2315, 2316, \n",
    "        'G2301', 'G2302', 'G2303', 'G2304', 'G2305', 'G2306', 'G2307', 'G2308', 'G2309', 'G2310', 'G2311',\n",
    "        'G2312', 'G2313', 'G2314', 'G2315', 'G2316'] \n",
    "#station identifier set for both ZE(3C Nodes)[PH5] and ZD(GEM loggers & in-ground sesimic data)[MiniSEED]. \n",
    "#Convention is year/site (YR/XX), G(YR/XX) for GEM loggers\n",
    "##NOTE: ZD is missing G2308 & G2316 entirely, gaps in others\n",
    "stas = [2302] # station id's actually used for resampling\n",
    "\n",
    "#Be sure to use the appropriate channel for the data type \n",
    "#'fdsnws/dataselect' for MINIseed (GEM and RT130)\n",
    "#'ph5ws/dataselect' for PH5 (3C node)\n",
    "DATASELECT = 'http://service.iris.edu/ph5ws/dataselect/1'\n",
    "c = fdsn.client.Client(\n",
    "    service_mappings={\n",
    "        'dataselect': DATASELECT,\n",
    "    },\n",
    ")\n",
    "c.set_credentials('', '')\n",
    "\n",
    "tNow = t1 #start time\n",
    "req = [] #UNSURE????\n",
    "while tNow < t2:\n",
    "    print(tNow)\n",
    "    for nowsta in stas:\n",
    "        # req.append(('ZD', nowsta, '01', 'HDF', tNow, tNow+delta)) for GEM infrasound data in MINIseed\n",
    "        # req.append(('ZE', nowsta, '', 'GPZ', tNow, tNow+delta)) for SmartSolo 3C node data\n",
    "        print(nowsta)\n",
    "        print('Getting data')\n",
    "        S = c.get_waveforms('ZE', nowsta, '', 'GP1', tNow, tNow+delta)\n",
    "        print('Resampling')\n",
    "        S.resample(350) # resampled rate for final analysis. note: remeber what Nyquist f you would like to work with, multiply by (1.1<f<1.5) for this value\n",
    "        # Recently using 350Hz for 3C data and 120Hz for GEM data\n",
    "        print('Saving')\n",
    "        for tr in S:\n",
    "            filename = 'E:/ActiveResearch/NisquallyRiver_SeismicInfrasound/NodeData/3C/2023/20240720_20240722/{}_{}.mseed'.format(tr.id, tr.stats.starttime.strftime('%Y%m%d%H%M%S')) # data format, tr.id==data directory, time format\n",
    "            tr.write(filename)\n",
    "    tNow = tNow + delta"
   ]
  },
  {
   "cell_type": "code",
   "execution_count": null,
   "id": "eda675d4-f106-43c3-a13a-7eec76a00b23",
   "metadata": {},
   "outputs": [],
   "source": []
  }
 ],
 "metadata": {
  "kernelspec": {
   "display_name": "Python 3 (ipykernel)",
   "language": "python",
   "name": "python3"
  },
  "language_info": {
   "codemirror_mode": {
    "name": "ipython",
    "version": 3
   },
   "file_extension": ".py",
   "mimetype": "text/x-python",
   "name": "python",
   "nbconvert_exporter": "python",
   "pygments_lexer": "ipython3",
   "version": "3.11.9"
  }
 },
 "nbformat": 4,
 "nbformat_minor": 5
}
