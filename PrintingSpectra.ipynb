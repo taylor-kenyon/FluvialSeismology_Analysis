{
 "cells": [
  {
   "cell_type": "code",
   "execution_count": null,
   "id": "65844bd7-f371-4529-9805-1d06f44c65dd",
   "metadata": {},
   "outputs": [],
   "source": [
    "#%%\n",
    "#import sys\n",
    "#sys.path.append('C:/Users/tkeny/miniforge3/envs/obspy/')\n",
    "import waveformUtils\n",
    "import obspy\n",
    "S = obspy.read('E:/ActiveResearch/NisquallyRiver_SeismicInfrasound/NodeData/3C/2023/20240720_20240722/ZE.2302..GP1*') #filepath only references the network code and station, be warned\n",
    "\n",
    "f, spectraF, spectraG, sttimes, tvec, RSAM = waveformUtils.plotSpectraTime(S, minfreq=0.5, maxfreq=150, winlength=3600,\n",
    "                                                                           step=7200,\n",
    "                                                                           spacing=2, ampScalar=3, normalize=True,\n",
    "                                                                           specWin=60,\n",
    "                                                                           specStep=30, rsamWin=1, saveFig=False)\n",
    "\n",
    "#Note:GEM data has a nyquist f of 50Hz, adjust maxfreq in both plotSpectraTime(above) and multiDaySpectrogram(below) accordingly\n",
    "\n",
    "f.show()\n",
    "\n",
    "f1 = waveformUtils.multiDaySpectrogram(S, averageLength=3600, fftLength=60, minFreq=0.5, maxFreq=150, cmap='turbo',\n",
    "                                      dateLimits=None,\n",
    "                                      vmin=0.4, vmax=0.9, plotAverage=True)\n",
    "\n",
    "f1.show()"
   ]
  }
 ],
 "metadata": {
  "kernelspec": {
   "display_name": "Python 3 (ipykernel)",
   "language": "python",
   "name": "python3"
  },
  "language_info": {
   "codemirror_mode": {
    "name": "ipython",
    "version": 3
   },
   "file_extension": ".py",
   "mimetype": "text/x-python",
   "name": "python",
   "nbconvert_exporter": "python",
   "pygments_lexer": "ipython3",
   "version": "3.11.9"
  }
 },
 "nbformat": 4,
 "nbformat_minor": 5
}
